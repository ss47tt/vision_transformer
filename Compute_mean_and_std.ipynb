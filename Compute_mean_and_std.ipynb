{
 "cells": [
  {
   "cell_type": "code",
   "execution_count": null,
   "metadata": {},
   "outputs": [
    {
     "name": "stdout",
     "output_type": "stream",
     "text": [
      "Mean: [0.0020552347414195538, 0.0020552347414195538, 0.0020552347414195538]\n",
      "Std: [0.0044919578358531, 0.0044919578358531, 0.0044919578358531]\n"
     ]
    }
   ],
   "source": [
    "import torch\n",
    "import torchvision.transforms as transforms\n",
    "from torchvision.datasets import ImageFolder\n",
    "from torch.utils.data import DataLoader\n",
    "\n",
    "# Define transform without Normalize\n",
    "transform = transforms.Compose([\n",
    "    transforms.Grayscale(num_output_channels=3),  # Ensure 3 channels if needed\n",
    "    transforms.Resize((224, 224)),\n",
    "    transforms.ToTensor(),  # Convert image to tensor\n",
    "])\n",
    "\n",
    "# Load dataset\n",
    "dataset = ImageFolder(root=\"./sampled_train\", transform=transform)\n",
    "data_loader = DataLoader(dataset, batch_size=64, shuffle=False, num_workers=4)\n",
    "\n",
    "# Accumulators for mean and std calculation\n",
    "sum_pixels = torch.zeros(3)\n",
    "sum_squared_pixels = torch.zeros(3)\n",
    "num_pixels = 0\n",
    "\n",
    "# Loop through dataset\n",
    "for images, _ in data_loader:\n",
    "    batch_samples = images.size(0)  # Batch size (number of images in batch)\n",
    "    num_pixels += batch_samples * 224 * 224  # Total number of pixels in all images\n",
    "\n",
    "    sum_pixels += images.sum(dim=[0, 2, 3])  # Sum over batch, height, width\n",
    "    sum_squared_pixels += (images ** 2).sum(dim=[0, 2, 3])  # Sum of squares\n",
    "\n",
    "# Compute mean and std\n",
    "mean = sum_pixels / num_pixels\n",
    "std = torch.sqrt((sum_squared_pixels / num_pixels) - (mean ** 2))  # std = sqrt(E[x^2] - (E[x])^2)\n",
    "\n",
    "print(\"Mean:\", mean.tolist())\n",
    "print(\"Std:\", std.tolist())"
   ]
  },
  {
   "cell_type": "code",
   "execution_count": null,
   "metadata": {},
   "outputs": [
    {
     "name": "stdout",
     "output_type": "stream",
     "text": [
      "Mean: [0.0020968609023839235, 0.0020968609023839235, 0.0020968609023839235]\n",
      "Std: [0.0045669530518352985, 0.0045669530518352985, 0.0045669530518352985]\n"
     ]
    }
   ],
   "source": [
    "import torch\n",
    "import torchvision.transforms as transforms\n",
    "from torchvision.datasets import ImageFolder\n",
    "from torch.utils.data import DataLoader\n",
    "\n",
    "# Define transform without Normalize\n",
    "transform = transforms.Compose([\n",
    "    transforms.Grayscale(num_output_channels=3),  # Ensure 3 channels if needed\n",
    "    transforms.Resize((224, 224)),\n",
    "    transforms.ToTensor(),  # Convert image to tensor\n",
    "])\n",
    "\n",
    "# Load dataset\n",
    "dataset = ImageFolder(root=\"./sampled_test\", transform=transform)\n",
    "data_loader = DataLoader(dataset, batch_size=64, shuffle=False, num_workers=4)\n",
    "\n",
    "# Accumulators for mean and std calculation\n",
    "sum_pixels = torch.zeros(3)\n",
    "sum_squared_pixels = torch.zeros(3)\n",
    "num_pixels = 0\n",
    "\n",
    "# Loop through dataset\n",
    "for images, _ in data_loader:\n",
    "    batch_samples = images.size(0)  # Batch size (number of images in batch)\n",
    "    num_pixels += batch_samples * 224 * 224  # Total number of pixels in all images\n",
    "\n",
    "    sum_pixels += images.sum(dim=[0, 2, 3])  # Sum over batch, height, width\n",
    "    sum_squared_pixels += (images ** 2).sum(dim=[0, 2, 3])  # Sum of squares\n",
    "\n",
    "# Compute mean and std\n",
    "mean = sum_pixels / num_pixels\n",
    "std = torch.sqrt((sum_squared_pixels / num_pixels) - (mean ** 2))  # std = sqrt(E[x^2] - (E[x])^2)\n",
    "\n",
    "print(\"Mean:\", mean.tolist())\n",
    "print(\"Std:\", std.tolist())"
   ]
  }
 ],
 "metadata": {
  "kernelspec": {
   "display_name": "py310",
   "language": "python",
   "name": "python3"
  },
  "language_info": {
   "codemirror_mode": {
    "name": "ipython",
    "version": 3
   },
   "file_extension": ".py",
   "mimetype": "text/x-python",
   "name": "python",
   "nbconvert_exporter": "python",
   "pygments_lexer": "ipython3",
   "version": "3.10.15"
  }
 },
 "nbformat": 4,
 "nbformat_minor": 2
}
